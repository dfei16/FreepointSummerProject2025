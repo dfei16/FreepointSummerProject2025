{
 "cells": [
  {
   "cell_type": "code",
   "execution_count": null,
   "id": "d0490675",
   "metadata": {},
   "outputs": [],
   "source": [
    "import pandas as pd\n",
    "import numpy as np\n",
    "import matplotlib.pyplot as plt\n",
    "from statsmodels.tsa.statespace.sarimax import SARIMAX\n",
    "from sklearn.metrics import mean_squared_error, mean_absolute_error\n",
    "from math import sqrt"
   ]
  },
  {
   "cell_type": "code",
   "execution_count": null,
   "id": "b25690d3",
   "metadata": {},
   "outputs": [],
   "source": [
    "# Load Data\n",
    "file_path = \"/Users/dylanfei/Downloads/Dylan Fei - Distillate Dataset for Forecasts (Summer Internship Dataset).xlsx\"\n",
    "df = pd.read_excel(file_path, sheet_name=\"Sheet1\")\n",
    "df['Date'] = pd.to_datetime(df['Date'])\n",
    "df.set_index('Date', inplace=True)\n",
    "df.index.freq = 'MS'  # Set Monthly Start frequency\n",
    "df.columns = df.columns.str.strip()"
   ]
  },
  {
   "cell_type": "code",
   "execution_count": null,
   "id": "ab3dc95b",
   "metadata": {},
   "outputs": [],
   "source": [
    "# Target & Exogenous Variables\n",
    "y = df['Distillate Demand'].copy()\n",
    "exog = df[['HO1 (Heating Oil) Index', 'Agricultural Indices']].copy()\n",
    "\n",
    "# 12-Month Train/Test Split\n",
    "train = y.iloc[:-12]\n",
    "test = y.iloc[-12:]\n",
    "exog_train = exog.iloc[:-12]\n",
    "exog_test = exog.iloc[-12:]"
   ]
  },
  {
   "cell_type": "code",
   "execution_count": null,
   "id": "bdd802ca",
   "metadata": {},
   "outputs": [],
   "source": [
    "# SARIMAX Model for Evaluation\n",
    "model = SARIMAX(train, exog=exog_train, order=(1, 1, 1), seasonal_order=(1, 1, 1, 12),\n",
    "                enforce_stationarity=False, enforce_invertibility=False)\n",
    "results = model.fit(disp=False, maxiter=1000)"
   ]
  },
  {
   "cell_type": "code",
   "execution_count": null,
   "id": "eaddfe42",
   "metadata": {},
   "outputs": [],
   "source": [
    "# Forecast\n",
    "forecast = results.get_prediction(start=test.index[0], end=test.index[-1], exog=exog_test)\n",
    "predicted_mean = forecast.predicted_mean\n",
    "\n",
    "# Error Metrics\n",
    "rmse = sqrt(mean_squared_error(test, predicted_mean))\n",
    "mae = mean_absolute_error(test, predicted_mean)"
   ]
  },
  {
   "cell_type": "code",
   "execution_count": null,
   "id": "b492b0a9",
   "metadata": {},
   "outputs": [],
   "source": [
    "# Plot 12-Month Forecast vs Actual\n",
    "plt.figure(figsize=(12, 6))\n",
    "plt.plot(train.index, train, label='Training Data', color='gray', alpha=0.6)\n",
    "plt.plot(test.index, test, label='Actual Demand', color='darkblue', linewidth=2)\n",
    "plt.plot(test.index, predicted_mean, label='Forecasted Demand', color='lightblue', linestyle='--', linewidth=2)\n",
    "\n",
    "metrics_text = f\"RMSE: {rmse:.2f} KBD\\nMAE: {mae:.2f} KBD\"\n",
    "plt.gca().text(0.98, 0.02, metrics_text, transform=plt.gca().transAxes,\n",
    "               fontsize=10, verticalalignment='bottom', horizontalalignment='right',\n",
    "               bbox=dict(boxstyle=\"round,pad=0.4\", facecolor='white', alpha=0.7))\n",
    "plt.title(\"Distillate Demand Forecast (12-Month Evaluation)\")\n",
    "plt.xlabel(\"Date\")\n",
    "plt.ylabel(\"KBD\")\n",
    "plt.legend()\n",
    "plt.grid(True)\n",
    "plt.tight_layout()\n",
    "plt.show()"
   ]
  },
  {
   "cell_type": "code",
   "execution_count": null,
   "id": "3b1d24fd",
   "metadata": {},
   "outputs": [],
   "source": [
    "# Forecasting Future Months\n",
    "n_months = 3\n",
    "latest_exog_values = exog.iloc[-1].values\n",
    "future_months = pd.date_range(start=y.index[-1] + pd.DateOffset(months=1), periods=n_months, freq='MS')\n",
    "future_exog_months = pd.DataFrame([latest_exog_values] * n_months, index=future_months, columns=exog.columns)\n",
    "\n",
    "# Refit Full Model\n",
    "final_model = SARIMAX(y, exog=exog, order=(1, 1, 1), seasonal_order=(1, 1, 1, 12),\n",
    "                      enforce_stationarity=False, enforce_invertibility=False)\n",
    "final_results = final_model.fit(disp=False, maxiter=1000)"
   ]
  },
  {
   "cell_type": "code",
   "execution_count": null,
   "id": "5cc4baf3",
   "metadata": {},
   "outputs": [],
   "source": [
    "# Forecast Next 3 Months\n",
    "monthly_forecast = final_results.get_forecast(steps=n_months, exog=future_exog_months)\n",
    "monthly_forecast_values = monthly_forecast.predicted_mean\n",
    "conf_int = monthly_forecast.conf_int()\n",
    "conf_int.index = future_months\n",
    "\n",
    "# Prepare for Weekly Interpolation\n",
    "last_value = y.iloc[-1]\n",
    "last_conf_int = pd.DataFrame([[last_value, last_value]], index=[y.index[-1]], columns=conf_int.columns)\n",
    "monthly_forecast_full = pd.concat([y[-1:], monthly_forecast_values])\n",
    "conf_int_full = pd.concat([last_conf_int, conf_int])"
   ]
  },
  {
   "cell_type": "code",
   "execution_count": null,
   "id": "10a70b47",
   "metadata": {},
   "outputs": [],
   "source": [
    "# Weekly Interpolation for Prompt Weeks (Fridays from July to October 2025)\n",
    "weekly_range = pd.date_range(start=\"2025-07-04\", end=\"2025-10-31\", freq='W-FRI')\n",
    "monthly_forecast_full.index = pd.to_datetime(monthly_forecast_full.index)\n",
    "\n",
    "# Interpolate Weekly Forecast and Bounds\n",
    "interpolated = monthly_forecast_full.reindex(monthly_forecast_full.index.union(weekly_range)).interpolate('time').reindex(weekly_range)\n",
    "lower_interp = conf_int_full.iloc[:, 0].reindex(conf_int_full.index.union(weekly_range)).interpolate('time').reindex(weekly_range)\n",
    "upper_interp = conf_int_full.iloc[:, 1].reindex(conf_int_full.index.union(weekly_range)).interpolate('time').reindex(weekly_range)\n",
    "\n",
    "# Combine Weekly Forecast and Confidence Intervals\n",
    "weekly_forecast_with_ci = pd.DataFrame({\n",
    "    \"Forecasted Weekly Demand (KBD)\": interpolated,\n",
    "    \"Lower Bound (95%)\": lower_interp,\n",
    "    \"Upper Bound (95%)\": upper_interp\n",
    "})"
   ]
  },
  {
   "cell_type": "code",
   "execution_count": null,
   "id": "33161ddf",
   "metadata": {},
   "outputs": [],
   "source": [
    "# Export to Excel\n",
    "output_path = \"/Users/dylanfei/Downloads/Distillate_Weekly_Forecast_July_October_2025.xlsx\"\n",
    "weekly_forecast_with_ci.to_excel(output_path)"
   ]
  }
 ],
 "metadata": {},
 "nbformat": 4,
 "nbformat_minor": 5
}
